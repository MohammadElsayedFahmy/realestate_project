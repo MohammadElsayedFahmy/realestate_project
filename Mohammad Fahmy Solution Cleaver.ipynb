{
 "cells": [
  {
   "cell_type": "code",
   "execution_count": 163,
   "metadata": {},
   "outputs": [],
   "source": [
    "import pandas as pd\n",
    "import numpy as np"
   ]
  },
  {
   "cell_type": "code",
   "execution_count": 164,
   "metadata": {},
   "outputs": [],
   "source": [
    "file_path = \"Analysis of States.xlsx\"\n"
   ]
  },
  {
   "cell_type": "code",
   "execution_count": null,
   "metadata": {},
   "outputs": [],
   "source": [
    "# List of sheet names in the order specified\n",
    "sheet_names = [\n",
    "    \"OUTPUT\",\n",
    "    \"CENSUS_MHI_STATE\",\n",
    "    \"CENSUS_POPULATION_STATE\",\n",
    "    \"KEYS\"\n",
    "]\n",
    "\n",
    "# Load the sheets into a dictionary of DataFrames\n",
    "dfs_dict = pd.read_excel(file_path, sheet_name=sheet_names)\n",
    "\n",
    "# Access individual DataFrames by sheet name\n",
    "df_output = dfs_dict[\"OUTPUT\"]\n",
    "df_census_mhi_state = dfs_dict[\"CENSUS_MHI_STATE\"]\n",
    "df_census_population_state = dfs_dict[\"CENSUS_POPULATION_STATE\"]\n",
    "df_keys = dfs_dict[\"KEYS\"]\n"
   ]
  },
  {
   "cell_type": "code",
   "execution_count": null,
   "metadata": {},
   "outputs": [],
   "source": [
    "df_redfin_median_sale_price = pd.read_excel(file_path, sheet_name=\"REDFIN_MEDIAN_SALE_PRICE\",index_col=0, header=[1])"
   ]
  },
  {
   "cell_type": "code",
   "execution_count": null,
   "metadata": {},
   "outputs": [],
   "source": [
    "# Convert the index of the report to tuple. The levels are determined by the\n",
    "# leading spaces. Every 4 spaces indicate an increase in index level\n",
    "def convert_to_tuple(input_str):\n",
    "    stripped_input = input_str.lstrip()\n",
    "    rank =  int((len(input_str) - len(stripped_input)) / 4)\n",
    "    output = [np.nan] * (rank + 1)\n",
    "    output[-1] =  stripped_input\n",
    "    return tuple(output)\n"
   ]
  },
  {
   "cell_type": "code",
   "execution_count": null,
   "metadata": {},
   "outputs": [],
   "source": [
    "def cleanup_report_dataframe(df):\n",
    "    df = df.copy()\n",
    "    df_index = pd.DataFrame(\n",
    "        df['Label (Grouping)'].map(convert_to_tuple).tolist()\n",
    "    ).ffill()\n",
    "    df_index.set_index(df_index.columns.tolist(), inplace=True)\n",
    "    df.index = df_index.index\n",
    "    df.drop([\"Label (Grouping)\"], axis=1, inplace=True)\n",
    "    df.columns = pd.MultiIndex.from_tuples(\n",
    "        [tuple(col.split(\"!!\")) for col in df.columns]\n",
    "    )\n",
    "    df.replace(r\"[^\\d\\.]+\", \"\", regex=True, inplace=True)\n",
    "    df.replace(r\"\", np.nan, inplace=True)\n",
    "    df = df.astype(np.float64)\n",
    "    return df"
   ]
  },
  {
   "cell_type": "code",
   "execution_count": null,
   "metadata": {},
   "outputs": [],
   "source": [
    "df_census_mhi_state = cleanup_report_dataframe(df_census_mhi_state)\n",
    "df_census_population_state = cleanup_report_dataframe(df_census_population_state)"
   ]
  },
  {
   "cell_type": "code",
   "execution_count": null,
   "metadata": {},
   "outputs": [],
   "source": [
    "df_redfin_median_sale_price = df_redfin_median_sale_price\\\n",
    "                            .replace(r\"[$]\", \"\", regex=True)\\\n",
    "                            .replace(r\"K\", \"000\", regex=True)\\\n",
    "                            .astype(np.float64)"
   ]
  },
  {
   "cell_type": "markdown",
   "metadata": {},
   "source": [
    "## Helper Functions"
   ]
  },
  {
   "cell_type": "code",
   "execution_count": null,
   "metadata": {},
   "outputs": [],
   "source": [
    "def rank_to_str(rank):\n",
    "    if rank % 100 // 10 == 1:\n",
    "        return str(rank) + \"th\"\n",
    "    elif rank % 10 == 1:\n",
    "        return str(rank) + \"st\"\n",
    "    elif rank % 10 == 2:\n",
    "        return str(rank) + \"nd\"\n",
    "    elif rank % 10 == 3:\n",
    "        return str(rank) + \"rd\"\n",
    "    else:\n",
    "        return str(rank) + \"th\"\n",
    "    "
   ]
  },
  {
   "cell_type": "markdown",
   "metadata": {},
   "source": [
    "## Global Variables"
   ]
  },
  {
   "cell_type": "code",
   "execution_count": null,
   "metadata": {},
   "outputs": [],
   "source": [
    "population_blurb = \"{state} is {rank_str} in the nation in population among states, DC, and Puerto Rico.\"\n",
    "median_household_income_blurb = \"{state} is {rank_str} in the nation in median household income among states, DC, and Puerto Rico.\"\n",
    "median_sale_price_blurb = \"{state} has the {rank_str} highest median sale price on homes in the nation among states, DC, and Puerto Rico, according to Redfin data from {query_date}.\"\n",
    "house_affordability_ratio_blurb = \"{state} has the {rank_str} lowest house affordability ratio in the nation among states, DC, and Puerto Rico, according to Redfin data {query_date}.\" "
   ]
  },
  {
   "cell_type": "code",
   "execution_count": null,
   "metadata": {},
   "outputs": [],
   "source": [
    "query_date = \"February 2025\""
   ]
  },
  {
   "cell_type": "markdown",
   "metadata": {},
   "source": [
    "## Create Ouptut Dataframe"
   ]
  },
  {
   "cell_type": "code",
   "execution_count": null,
   "metadata": {},
   "outputs": [],
   "source": [
    "df_lookup = df_keys.query(\"region_type == 'state'\")[[\"key_row\", \"zillow_region_name\", \"alternative_name\"]]"
   ]
  },
  {
   "cell_type": "code",
   "execution_count": null,
   "metadata": {},
   "outputs": [],
   "source": [
    "df_output = df_lookup.set_index('zillow_region_name').copy()"
   ]
  },
  {
   "cell_type": "markdown",
   "metadata": {},
   "source": [
    "## Creating Output Dataframe Columns"
   ]
  },
  {
   "cell_type": "markdown",
   "metadata": {},
   "source": [
    "### census_population"
   ]
  },
  {
   "cell_type": "code",
   "execution_count": null,
   "metadata": {},
   "outputs": [],
   "source": [
    "census_population = df_census_population_state\\\n",
    "    .loc[('SEX AND AGE', \"Total population\", np.nan), (slice(None), \"Estimate\")].transpose().astype(int)\n"
   ]
  },
  {
   "cell_type": "code",
   "execution_count": null,
   "metadata": {},
   "outputs": [],
   "source": [
    "census_population.index = [x for x, _ in census_population.index]"
   ]
  },
  {
   "cell_type": "code",
   "execution_count": null,
   "metadata": {},
   "outputs": [],
   "source": [
    "df_output['census_population'] = census_population"
   ]
  },
  {
   "cell_type": "markdown",
   "metadata": {},
   "source": [
    "### population_rank"
   ]
  },
  {
   "cell_type": "code",
   "execution_count": null,
   "metadata": {},
   "outputs": [],
   "source": [
    "df_output['population_rank'] = df_output['census_population'].rank(ascending=False).astype(int).apply(rank_to_str)"
   ]
  },
  {
   "cell_type": "markdown",
   "metadata": {},
   "source": [
    "### population_blurb"
   ]
  },
  {
   "cell_type": "code",
   "execution_count": null,
   "metadata": {},
   "outputs": [],
   "source": [
    "df_output[\"population_blurb\"] = df_output.apply(lambda x: population_blurb.format(state=x['alternative_name'], rank_str=x['population_rank']), axis=1)"
   ]
  },
  {
   "cell_type": "markdown",
   "metadata": {},
   "source": [
    "### median_household_income"
   ]
  },
  {
   "cell_type": "code",
   "execution_count": null,
   "metadata": {},
   "outputs": [],
   "source": [
    "df_median_household = df_census_mhi_state\\\n",
    "    .loc[('HOUSEHOLD INCOME BY RACE AND HISPANIC OR LATINO ORIGIN OF HOUSEHOLDER', \"Households\", np.nan), (slice(None), \"Median income (dollars)\", \"Estimate\")].transpose().astype(int)\n"
   ]
  },
  {
   "cell_type": "code",
   "execution_count": null,
   "metadata": {},
   "outputs": [],
   "source": [
    "df_median_household.index = [x for x, _, _ in df_median_household.index]"
   ]
  },
  {
   "cell_type": "code",
   "execution_count": null,
   "metadata": {},
   "outputs": [],
   "source": [
    "df_output['median_household_income'] = df_median_household"
   ]
  },
  {
   "cell_type": "markdown",
   "metadata": {},
   "source": [
    "### median_household_income_rank"
   ]
  },
  {
   "cell_type": "code",
   "execution_count": null,
   "metadata": {},
   "outputs": [],
   "source": [
    "df_output['median_household_income_rank'] = df_output['median_household_income'].rank(ascending=False).astype(int).apply(rank_to_str)"
   ]
  },
  {
   "cell_type": "markdown",
   "metadata": {},
   "source": [
    "### median_household_income_blurb"
   ]
  },
  {
   "cell_type": "code",
   "execution_count": null,
   "metadata": {},
   "outputs": [],
   "source": [
    "df_output[\"median_household_income_blurb\"] = df_output.apply(lambda x: median_household_income_blurb.format(state=x['alternative_name'], rank_str=x['median_household_income_rank']), axis=1)"
   ]
  },
  {
   "cell_type": "code",
   "execution_count": null,
   "metadata": {},
   "outputs": [],
   "source": [
    "# Replace the word 1st\n",
    "first_idx = df_output.query(\"median_household_income_rank == '1st'\").index\n",
    "df_output.loc[first_idx, 'median_household_income_blurb'] = df_output.loc[first_idx, 'median_household_income_blurb']\\\n",
    "    .replace(\"1st\", \"the highest\", regex=True)"
   ]
  },
  {
   "cell_type": "markdown",
   "metadata": {},
   "source": [
    "### median_sale_price"
   ]
  },
  {
   "cell_type": "code",
   "execution_count": null,
   "metadata": {},
   "outputs": [],
   "source": [
    "df_output['median_sale_price'] = df_redfin_median_sale_price[pd.to_datetime(query_date)].astype(int)"
   ]
  },
  {
   "cell_type": "code",
   "execution_count": null,
   "metadata": {},
   "outputs": [],
   "source": [
    "# Setting some values manually\n",
    "df_output.loc[[\"District of Columbia\", \"Puerto Rico\"], \"median_sale_price\"] = [565000, 138000]"
   ]
  },
  {
   "cell_type": "markdown",
   "metadata": {},
   "source": [
    "### median_sale_price_rank"
   ]
  },
  {
   "cell_type": "code",
   "execution_count": null,
   "metadata": {},
   "outputs": [],
   "source": [
    "df_output['median_sale_price_rank'] = df_output['median_sale_price'].rank(ascending=False).astype(int).apply(rank_to_str)"
   ]
  },
  {
   "cell_type": "markdown",
   "metadata": {},
   "source": [
    "### median_sale_price_blurb"
   ]
  },
  {
   "cell_type": "code",
   "execution_count": null,
   "metadata": {},
   "outputs": [],
   "source": [
    "df_output[\"median_sale_price_blurb\"] = df_output.apply(lambda x: median_sale_price_blurb.format(state=x['alternative_name'], rank_str=x['median_sale_price_rank'], query_date=query_date), axis=1)"
   ]
  },
  {
   "cell_type": "code",
   "execution_count": null,
   "metadata": {},
   "outputs": [],
   "source": [
    "# Replace the word 1st\n",
    "first_idx = df_output.query(\"median_sale_price_rank == '1st'\").index\n",
    "df_output.loc[first_idx, 'median_sale_price_blurb'] = df_output.loc[first_idx, 'median_sale_price_blurb']\\\n",
    "    .replace(\"1st\", \"single\", regex=True)"
   ]
  },
  {
   "cell_type": "markdown",
   "metadata": {},
   "source": [
    "### house_affordability_ratio"
   ]
  },
  {
   "cell_type": "code",
   "execution_count": null,
   "metadata": {},
   "outputs": [],
   "source": [
    "df_output['house_affordability_ratio'] = (df_output['median_sale_price'] / df_output['median_household_income'])"
   ]
  },
  {
   "cell_type": "markdown",
   "metadata": {},
   "source": [
    "### house_affordability_ratio_rank"
   ]
  },
  {
   "cell_type": "code",
   "execution_count": null,
   "metadata": {},
   "outputs": [],
   "source": [
    "df_output['house_affordability_ratio_rank'] = df_output['house_affordability_ratio'].rank().astype(int).apply(rank_to_str)"
   ]
  },
  {
   "cell_type": "markdown",
   "metadata": {},
   "source": [
    "### house_affordability_ratio_blurb"
   ]
  },
  {
   "cell_type": "code",
   "execution_count": null,
   "metadata": {},
   "outputs": [],
   "source": [
    "df_output[\"house_affordability_ratio_blurb\"] = df_output.apply(lambda x: house_affordability_ratio_blurb.format(state=x['alternative_name'], rank_str=x['house_affordability_ratio_rank'], query_date=query_date), axis=1)"
   ]
  },
  {
   "cell_type": "code",
   "execution_count": null,
   "metadata": {},
   "outputs": [],
   "source": [
    "# Replace the word 1st\n",
    "first_idx = df_output.query(\"house_affordability_ratio_rank == '1st'\").index\n",
    "df_output.loc[first_idx, 'house_affordability_ratio_blurb'] = df_output.loc[first_idx, 'house_affordability_ratio_blurb']\\\n",
    "    .replace(\"1st\", \"single\", regex=True)"
   ]
  },
  {
   "cell_type": "markdown",
   "metadata": {},
   "source": [
    "# Cleanup"
   ]
  },
  {
   "cell_type": "code",
   "execution_count": null,
   "metadata": {},
   "outputs": [],
   "source": [
    "df_output = df_output.set_index('key_row').drop('alternative_name', axis=1)"
   ]
  },
  {
   "cell_type": "code",
   "execution_count": null,
   "metadata": {},
   "outputs": [],
   "source": [
    "df_output['house_affordability_ratio'] = df_output['house_affordability_ratio'].round(1)\n",
    "df_output.to_csv(\"result.csv\")"
   ]
  },
  {
   "cell_type": "code",
   "execution_count": null,
   "metadata": {},
   "outputs": [],
   "source": [
    "import pandas as pd\n",
    "import matplotlib.pyplot as plt\n",
    "import seaborn as sns\n",
    "\n",
    "# Load the Excel file\n",
    "df = df_output\n",
    "\n",
    "# Clean up data types\n",
    "df[\"census_population\"] = pd.to_numeric(df[\"census_population\"], errors=\"coerce\")\n",
    "df[\"median_household_income\"] = pd.to_numeric(df[\"median_household_income\"], errors=\"coerce\")\n",
    "df[\"median_sale_price\"] = pd.to_numeric(df[\"median_sale_price\"], errors=\"coerce\")\n",
    "df[\"house_affordability_ratio\"] = pd.to_numeric(df[\"house_affordability_ratio\"], errors=\"coerce\")\n",
    "\n",
    "# Set consistent theme\n",
    "sns.set(style=\"whitegrid\")\n",
    "\n",
    "def bar_chart(data, col, title, xlabel, top=True):\n",
    "    ordered = data.sort_values(by=col, ascending=not top).head(10)\n",
    "    plt.figure(figsize=(12, 6))\n",
    "    sns.barplot(x=col, y=\"key_row\", data=ordered, hue=\"key_row\", palette=\"viridis\", dodge=False, legend=False)\n",
    "    plt.title(title)\n",
    "    plt.xlabel(xlabel)\n",
    "    plt.ylabel(\"\")\n",
    "    plt.tight_layout()\n",
    "    plt.show()\n"
   ]
  },
  {
   "cell_type": "code",
   "execution_count": null,
   "metadata": {},
   "outputs": [],
   "source": [
    "# 1. Top 10 Median Household Income\n",
    "bar_chart(df, \"median_household_income\", \"Top 10 States by Median Household Income\", \"Income ($)\")"
   ]
  },
  {
   "cell_type": "code",
   "execution_count": null,
   "metadata": {},
   "outputs": [],
   "source": [
    "# 2. Top 10 Median Sale Price\n",
    "bar_chart(df, \"median_sale_price\", \"Top 10 States by Median Sale Price\", \"Price ($)\")"
   ]
  },
  {
   "cell_type": "code",
   "execution_count": null,
   "metadata": {},
   "outputs": [],
   "source": [
    "# 3. Bottom 10 House Affordability Ratio (Most Affordable)\n",
    "bar_chart(df, \"house_affordability_ratio\", \"Top 10 Most Affordable States (Lowest Ratio)\", \"Affordability Ratio\", top=False)"
   ]
  },
  {
   "cell_type": "code",
   "execution_count": null,
   "metadata": {},
   "outputs": [],
   "source": [
    "# 4. Top 10 Population\n",
    "bar_chart(df, \"census_population\", \"Top 10 States by Population\", \"Population\")"
   ]
  },
  {
   "cell_type": "code",
   "execution_count": null,
   "metadata": {},
   "outputs": [],
   "source": [
    "# 5. Scatter Plot - Affordability vs Income\n",
    "plt.figure(figsize=(10, 6))\n",
    "sns.scatterplot(data=df, x=\"median_household_income\", y=\"house_affordability_ratio\", hue=\"key_row\", palette=\"coolwarm\", legend=False)\n",
    "plt.title(\"Affordability Ratio vs Median Household Income\")\n",
    "plt.xlabel(\"Median Household Income ($)\")\n",
    "plt.ylabel(\"House Affordability Ratio\")\n",
    "plt.tight_layout()\n",
    "plt.show()"
   ]
  },
  {
   "cell_type": "code",
   "execution_count": null,
   "metadata": {},
   "outputs": [],
   "source": [
    "# 6. Scatter Plot - Affordability vs Sale Price\n",
    "plt.figure(figsize=(10, 6))\n",
    "sns.scatterplot(data=df, x=\"median_sale_price\", y=\"house_affordability_ratio\", hue=\"key_row\", palette=\"coolwarm\", legend=False)\n",
    "plt.title(\"Affordability Ratio vs Median Sale Price\")\n",
    "plt.xlabel(\"Median Sale Price ($)\")\n",
    "plt.ylabel(\"House Affordability Ratio\")\n",
    "plt.tight_layout()\n",
    "plt.show()"
   ]
  },
  {
   "cell_type": "code",
   "execution_count": null,
   "metadata": {},
   "outputs": [],
   "source": []
  }
 ],
 "metadata": {
  "kernelspec": {
   "display_name": "Python 3 (ipykernel)",
   "language": "python",
   "name": "python3"
  },
  "language_info": {
   "codemirror_mode": {
    "name": "ipython",
    "version": 3
   },
   "file_extension": ".py",
   "mimetype": "text/x-python",
   "name": "python",
   "nbconvert_exporter": "python",
   "pygments_lexer": "ipython3",
   "version": "3.12.3"
  }
 },
 "nbformat": 4,
 "nbformat_minor": 4
}
